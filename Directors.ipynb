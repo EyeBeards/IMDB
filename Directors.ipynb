{
 "cells": [
  {
   "cell_type": "code",
   "execution_count": 1,
   "metadata": {},
   "outputs": [],
   "source": [
    "import pandas as pd\n",
    "import numpy as np\n",
    "import matplotlib.pyplot as plt\n",
    "\n",
    "# I'll use pandas dataframes to manipulate and filter the data based on the query\n",
    "# And I'll use matplotlib to visualize the resulting data"
   ]
  },
  {
   "cell_type": "code",
   "execution_count": 2,
   "metadata": {},
   "outputs": [],
   "source": [
    "df_titles = pd.read_csv('imdb_titles.tsv', delimiter='\\t', low_memory=False)\n",
    "df_names = pd.read_csv('imdb_names.tsv', delimiter='\\t')\n",
    "df_crew = pd.read_csv('imdb_crew.tsv', delimiter='\\t')\n",
    "df_rating = pd.read_csv('imdb_rating.tsv', delimiter='\\t')\n",
    "\n",
    "# I've imported the IMDB datasets for this project as dataframe object using pandas.read_csv\n",
    "# Note that the IMDB datasets are tab seperated value files, so the delimiter is set to '\\t'"
   ]
  },
  {
   "cell_type": "code",
   "execution_count": 3,
   "metadata": {},
   "outputs": [],
   "source": [
    "df_titles = df_titles[(df_titles.titleType=='movie') | (df_titles.titleType=='short')]\n",
    "df_titles = df_titles.merge(df_rating, how='left', on='tconst')\n",
    "\n",
    "# Reduces titles to only include feature films and short films\n",
    "# Adds IMDB rating and number of votes for each record in the titles dataframe"
   ]
  },
  {
   "cell_type": "code",
   "execution_count": 4,
   "metadata": {},
   "outputs": [],
   "source": [
    "df_crew = df_crew[df_crew.tconst.isin(df_titles.tconst)]\n",
    "\n",
    "# Reduces crew dataframe to only include titles in the newly reduced titles dataframe"
   ]
  },
  {
   "cell_type": "code",
   "execution_count": 5,
   "metadata": {},
   "outputs": [],
   "source": [
    "df_names = df_names[df_names.nconst.isin(df_crew.directors)]\n",
    "\n",
    "# Reduces the names dataframe to only include directors with credits in the crew dataframe"
   ]
  },
  {
   "cell_type": "code",
   "execution_count": 57,
   "metadata": {},
   "outputs": [],
   "source": [
    "def get_films(director):\n",
    "    films = df_crew[df_crew.directors==director].tconst\n",
    "    films = df_titles[df_titles.tconst.isin(films)]\n",
    "    return films\n",
    "\n",
    "# Receives a director(nconst) and filters the crew dataframe by the director and returns the resulting titles(tcosnt)\n",
    "# Filters the titles dataframe, using the titles in films"
   ]
  },
  {
   "cell_type": "code",
   "execution_count": 95,
   "metadata": {},
   "outputs": [],
   "source": [
    "def plot_films(films):\n",
    "    shorts = films[films.titleType=='short']\n",
    "    features = films[films.titleType=='movie']\n",
    "    plt.figure(figsize=(15,10))\n",
    "    plt.scatter(shorts.startYear, shorts.averageRating, s=np.divide(shorts.numVotes, 100))\n",
    "    plt.scatter(features.startYear, features.averageRating, s=np.divide(features.numVotes, 100))\n",
    "#     plt.axis([1920, 2020])\n",
    "#     plt.legend(['Shorts', 'Features'], loc=4)\n",
    "    plt.show()\n",
    "    \n",
    "# Receives a list of films(tconst's)\n",
    "# Creates seperate dataframes for short and feature-length titles\n",
    "# Plots both sets of titles using scatter\n",
    "# Depicts averageRating(on IMDB) over startYear(release year), with size representing numVotes(on IMDB)"
   ]
  },
  {
   "cell_type": "code",
   "execution_count": 96,
   "metadata": {},
   "outputs": [],
   "source": [
    "def choose_director():\n",
    "    text = input('Enter a Director\\'s name: ')\n",
    "    if text not in df_names.primaryName.values:\n",
    "        print('{} is not in our list'.format(text))\n",
    "        choose_director()\n",
    "    else:\n",
    "        results = df_names[df_names.primaryName==text]\n",
    "        if len(results.nconst.values) > 1:\n",
    "            most_votes = 0\n",
    "            for director in results.nconst.values:\n",
    "                votes = get_films(director).numVotes.sum()\n",
    "                if votes > most_votes:\n",
    "                    most_votes = votes\n",
    "                    result = director\n",
    "            plot_films(get_films(result))\n",
    "        else:         \n",
    "            plot_films(get_films(results.nconst.values[0]))\n",
    "            \n",
    "# Receives text input\n",
    "# Restarts with a warning if input is unusable\n",
    "# Filter for records in names dataframe with primaryName matching input text\n",
    "# If multiple matches are returned, check the total sum of numVotes and return the director(tconst) with the highest\n",
    "# Pass director into get_films and returned films into plot_films"
   ]
  },
  {
   "cell_type": "code",
   "execution_count": 97,
   "metadata": {},
   "outputs": [
    {
     "name": "stdout",
     "output_type": "stream",
     "text": [
      "Enter a Director's name: \n",
      " is not in our list\n",
      "Enter a Director's name: Taika Waititi\n"
     ]
    },
    {
     "data": {
      "image/png": "[encoded data removed]",
      "text/plain": [
       "<Figure size 1080x720 with 1 Axes>"
      ]
     },
     "metadata": {
      "needs_background": "light"
     },
     "output_type": "display_data"
    }
   ],
   "source": [
    "choose_director()"
   ]
  },
  {
   "cell_type": "code",
   "execution_count": null,
   "metadata": {},
   "outputs": [],
   "source": []
  }
 ],
 "metadata": {
  "kernelspec": {
   "display_name": "Python 3",
   "language": "python",
   "name": "python3"
  },
  "language_info": {
   "codemirror_mode": {
    "name": "ipython",
    "version": 3
   },
   "file_extension": ".py",
   "mimetype": "text/x-python",
   "name": "python",
   "nbconvert_exporter": "python",
   "pygments_lexer": "ipython3",
   "version": "3.7.2"
  }
 },
 "nbformat": 4,
 "nbformat_minor": 1
}
